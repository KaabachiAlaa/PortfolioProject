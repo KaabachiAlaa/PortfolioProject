{
 "cells": [
  {
   "cell_type": "code",
   "execution_count": null,
   "id": "2ec30c6e-3271-4ea1-8d89-a2ef08308f64",
   "metadata": {},
   "outputs": [],
   "source": [
    "from requests import Request, Session\n",
    "from requests.exceptions import ConnectionError, Timeout, TooManyRedirects\n",
    "import json\n",
    "\n",
    "url = 'https://pro-api.coinmarketcap.com/v1/cryptocurrency/listings/latest'\n",
    "parameters = {\n",
    "  'start':'1',\n",
    "  'limit':'15',\n",
    "  'convert':'USD'\n",
    "}\n",
    "headers = {\n",
    "  'Accepts': 'application/json',\n",
    "  'X-CMC_PRO_API_KEY': '953cf27b-79db-4d43-9883-939fafe349ba',\n",
    "}\n",
    "\n",
    "session = Session()\n",
    "session.headers.update(headers)\n",
    "\n",
    "try:\n",
    "  response = session.get(url, params=parameters)\n",
    "  data = json.loads(response.text)\n",
    "  print(data)\n",
    "except (ConnectionError, Timeout, TooManyRedirects) as e:\n",
    "  print(\"true\")"
   ]
  },
  {
   "cell_type": "code",
   "execution_count": null,
   "id": "26bfbc6d-f830-4d0b-b569-429b9d453fd5",
   "metadata": {},
   "outputs": [],
   "source": [
    "import pandas as pd"
   ]
  },
  {
   "cell_type": "code",
   "execution_count": null,
   "id": "20a88afe-af2a-446a-9cd4-0db8a5105fd7",
   "metadata": {},
   "outputs": [],
   "source": [
    "pd.set_option(\"display.max.columns\",37)\n",
    "pd.set_option(\"display.max_rows\", 12)\n",
    "df=pd.json_normalize(data[\"data\"])\n",
    "df['timestamp']=pd.to_datetime('now')\n",
    "df"
   ]
  },
  {
   "cell_type": "code",
   "execution_count": null,
   "id": "3aed0c11-44fa-4ef7-8ab4-a3ebbf26c21d",
   "metadata": {},
   "outputs": [],
   "source": [
    "def api_runner():\n",
    "    global df\n",
    "    url = 'https://pro-api.coinmarketcap.com/v1/cryptocurrency/listings/latest'\n",
    "    parameters = {\n",
    "      'start':'1',\n",
    "      'limit':'15',\n",
    "      'convert':'USD'\n",
    "    }\n",
    "    headers = {\n",
    "      'Accepts': 'application/json',\n",
    "      'X-CMC_PRO_API_KEY': '953cf27b-79db-4d43-9883-939fafe349ba',\n",
    "    }\n",
    "    \n",
    "    session = Session()\n",
    "    session.headers.update(headers)\n",
    "    \n",
    "    try:\n",
    "      response = session.get(url, params=parameters)\n",
    "      data = json.loads(response.text)\n",
    "      # print(data)\n",
    "    except (ConnectionError, Timeout, TooManyRedirects) as e:\n",
    "       print(e)\n",
    "    pd.set_option(\"display.max.columns\",37)\n",
    "    pd.set_option(\"display.max_rows\", 15)\n",
    "    df2=pd.json_normalize(data[\"data\"])\n",
    "    df2['timestamp']=pd.to_datetime('now')\n",
    "    df=pd.concat([df,df2])\n",
    "    if not os.path.isfile(r'C:\\Users\\alaak\\OneDrive\\Bureau\\jupyter\\APIS\\API.csv'):\n",
    "        df.to_csv(r'C:\\Users\\alaak\\OneDrive\\Bureau\\jupyter\\APIS\\API.csv', header=True)\n",
    "    else:\n",
    "        df.to_csv(r'C:\\Users\\alaak\\OneDrive\\Bureau\\jupyter\\APIS\\API.csv', mode='a', header =False)\n",
    "        "
   ]
  },
  {
   "cell_type": "code",
   "execution_count": null,
   "id": "7198c9d6-2a91-4e0d-b840-c5a295339757",
   "metadata": {},
   "outputs": [],
   "source": [
    "import os \n",
    "from time import time \n",
    "from time import sleep\n",
    "for i in range(333):\n",
    "    api_runner()\n",
    "    print('API runner completed successfully')\n",
    "    sleep(60) #sleep for one minute\n",
    "exit()"
   ]
  },
  {
   "cell_type": "code",
   "execution_count": null,
   "id": "37a63550-4dbe-4ca6-a350-63c1fc443300",
   "metadata": {},
   "outputs": [],
   "source": [
    "df3=pd.read_csv(r\"C:\\Users\\alaak\\OneDrive\\Bureau\\jupyter\\APIS\\API.csv\")\n",
    "df3\n"
   ]
  },
  {
   "cell_type": "code",
   "execution_count": null,
   "id": "53e90d25-cd92-4c0a-9889-4b8e4d3675fb",
   "metadata": {},
   "outputs": [],
   "source": [
    "pd.set_option('display.float.format',lambda x: '%.5f' %x)"
   ]
  },
  {
   "cell_type": "code",
   "execution_count": null,
   "id": "e2115f2b-8d9c-4445-a03e-9e95914431d2",
   "metadata": {},
   "outputs": [],
   "source": [
    "df3"
   ]
  },
  {
   "cell_type": "code",
   "execution_count": null,
   "id": "221ee194-eed3-45c1-a19c-3efd2bbcac7c",
   "metadata": {},
   "outputs": [],
   "source": [
    "df4=df3.groupby('name',sort=False)[['quote.USD.percent_change_1h','quote.USD.percent_change_24h','quote.USD.percent_change_7d','quote.USD.percent_change_30d','quote.USD.percent_change_60d',]].mean()"
   ]
  },
  {
   "cell_type": "code",
   "execution_count": null,
   "id": "f9e26a2b-915d-4fd3-8c09-71e450a51457",
   "metadata": {},
   "outputs": [],
   "source": [
    "df5=df4.stack()\n",
    "pd.set_option('display.max.rows',None)\n",
    "print(df5)"
   ]
  },
  {
   "cell_type": "code",
   "execution_count": null,
   "id": "0022d090-75fd-47d9-a8f4-c6db5d8bb6e7",
   "metadata": {},
   "outputs": [],
   "source": [
    "df6=df5.to_frame(name='values')"
   ]
  },
  {
   "cell_type": "code",
   "execution_count": null,
   "id": "c5ec650f-d562-4f77-82bd-2ed30b2e4fda",
   "metadata": {},
   "outputs": [],
   "source": [
    "# index=pd.Index(range(75))\n",
    "# df6\n",
    "df6.reset_index(inplace=True)\n",
    "df6.rename(columns={'level_1':'percent change'},inplace=True)\n",
    "df6"
   ]
  },
  {
   "cell_type": "code",
   "execution_count": null,
   "id": "04c6d491-ae6a-4597-84fc-e3348db602a6",
   "metadata": {},
   "outputs": [],
   "source": [
    "df6['percent change'] = df6['percent change'].str.replace('quote.USD.percent_change_', '', regex=False)\n",
    "df6[df6['values']<0]"
   ]
  },
  {
   "cell_type": "code",
   "execution_count": null,
   "id": "e15b77ee-9fea-4ad0-8636-886c2f908398",
   "metadata": {},
   "outputs": [],
   "source": [
    "df6['values'] = pd.to_numeric(df6['values'], errors='coerce')\n"
   ]
  },
  {
   "cell_type": "code",
   "execution_count": null,
   "id": "f3717fc1-0532-474b-972f-08685d680333",
   "metadata": {},
   "outputs": [],
   "source": [
    "import seaborn as sns\n",
    "import matplotlib.pyplot as plt"
   ]
  },
  {
   "cell_type": "code",
   "execution_count": null,
   "id": "cdeecd09-d68d-4c8a-addd-e965f171009b",
   "metadata": {},
   "outputs": [],
   "source": [
    "plt.figure(figsize=(150, 35))\n",
    "sns.catplot(x='percent change', y='values', hue='name', data=df6, kind='point')\n",
    "plt.show()"
   ]
  },
  {
   "cell_type": "code",
   "execution_count": null,
   "id": "b5a724e3-ff04-4452-bfc0-9990d4dced9a",
   "metadata": {},
   "outputs": [],
   "source": [
    "pd.set_option('display.max.columns',38)\n",
    "df3.head(5)\n",
    "df7=df3[['name','quote.USD.price','timestamp']]\n",
    "df_bitcoin=df7[df7['name']=='Bitcoin']\n",
    "df_bitcoin=df_bitcoin.drop_duplicates(subset='quote.USD.price')\n",
    "df_bitcoin['timestamp'] = pd.to_datetime(df_bitcoin['timestamp'])\n",
    "df_bitcoin['timestamp']=df_bitcoin['timestamp'].dt.strftime('%H:%M')"
   ]
  },
  {
   "cell_type": "code",
   "execution_count": null,
   "id": "df5aea9e-10b1-42f4-9a44-558403e3decd",
   "metadata": {},
   "outputs": [],
   "source": [
    "sns.set_theme(style='darkgrid')\n",
    "sns.lineplot(x='timestamp',y='quote.USD.price',data=df_bitcoin)\n",
    "plt.ylim(df_bitcoin['quote.USD.price'].min() - 1, df_bitcoin['quote.USD.price'].max() + 1)"
   ]
  },
  {
   "cell_type": "code",
   "execution_count": null,
   "id": "71aab9dc-705c-472d-9eab-3ed58f2345a6",
   "metadata": {},
   "outputs": [],
   "source": []
  }
 ],
 "metadata": {
  "kernelspec": {
   "display_name": "Python 3 (ipykernel)",
   "language": "python",
   "name": "python3"
  },
  "language_info": {
   "codemirror_mode": {
    "name": "ipython",
    "version": 3
   },
   "file_extension": ".py",
   "mimetype": "text/x-python",
   "name": "python",
   "nbconvert_exporter": "python",
   "pygments_lexer": "ipython3",
   "version": "3.11.9"
  }
 },
 "nbformat": 4,
 "nbformat_minor": 5
}
